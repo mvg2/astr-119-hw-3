{
 "cells": [
  {
   "cell_type": "code",
   "execution_count": null,
   "metadata": {},
   "outputs": [],
   "source": [
    "%matplotlib inline \n",
    "import numpy as np          # imports numpy with a shorthand name so it's easier to call\n",
    "import matplotlib.pyplot as plt       # does the same as above for matplotlib.pyplot\n"
   ]
  },
  {
   "cell_type": "code",
   "execution_count": null,
   "metadata": {},
   "outputs": [],
   "source": [
    "x = np.linspace(0, 2.0*np.pi, 1000)   # creates the array containing values from 0 to 2pi, inclusive, with 1000 increments\n"
   ]
  },
  {
   "cell_type": "code",
   "execution_count": null,
   "metadata": {},
   "outputs": [],
   "source": [
    "a = 5.5*np.cos(2*x) + 5.5   # creates the first graph for y referenced in part (a.) of the homework\n",
    "b = 0.02*np.exp(x)          # creates the next graph for y referenced in part (b.) of the homework\n",
    "c = 0.25*(x**2) + 0.1*np.sin(10*x)    # creates the last graph for y referenced in part (c.) of the homework\n",
    "\n",
    "plt.plot(x,a)         # plots part a on the graph\n",
    "plt.plot(x,b)         # plots part b on the graph\n",
    "plt.plot(x,c)         # plots part c on the graph\n",
    "\n",
    "plt.xlabel('Time in ASTR 119')        # applies a label to the x-axis\n",
    "plt.ylabel('Measure of Awesomeness')  # applies a label to the y-axis\n",
    "\n",
    "plt.xlim([0,2*np.pi])       # sets the horizontal boundaries of the graph from 0 to 2pi\n",
    "plt.ylim([-1,10])           # sets the vertical boundaries of the graph from -1 to \n"
   ]
  }
 ],
 "metadata": {
  "kernelspec": {
   "display_name": "Python 3",
   "language": "python",
   "name": "python3"
  },
  "language_info": {
   "codemirror_mode": {
    "name": "ipython",
    "version": 3
   },
   "file_extension": ".py",
   "mimetype": "text/x-python",
   "name": "python",
   "nbconvert_exporter": "python",
   "pygments_lexer": "ipython3",
   "version": "3.8.5"
  }
 },
 "nbformat": 4,
 "nbformat_minor": 4
}
